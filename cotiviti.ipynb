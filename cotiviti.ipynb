{
  "nbformat": 4,
  "nbformat_minor": 0,
  "metadata": {
    "colab": {
      "provenance": []
    },
    "kernelspec": {
      "name": "python3",
      "display_name": "Python 3"
    },
    "language_info": {
      "name": "python"
    }
  },
  "cells": [
    {
      "cell_type": "markdown",
      "source": [
        "### **Real-Time Patient Outcome Simulation Platform**"
      ],
      "metadata": {
        "id": "CRS-KGN-G7nj"
      }
    },
    {
      "cell_type": "markdown",
      "source": [
        "Goal is to develop a prototype that uses simulation techniques to model and predict patient outcomes based on various treatment scenarios and interventions. This platform would enable providers to explore different treatment strategies and their potential impacts on patient health in a virtual environment enhancing clinical decision-making\n",
        "\n"
      ],
      "metadata": {
        "id": "hY93lNtGHlbT"
      }
    },
    {
      "cell_type": "markdown",
      "source": [
        "The Real-Time Patient Outcome Simulation Platform can be crucial for Cotiviti as it enhances predictive analytics by allowing providers to model and forecast patient outcomes under various treatment scenarios. This innovative tool can support better decision-making and treatment optimization, improving patient care. Additionally, it can position Cotiviti as a leader in personalized healthcare solutions by offering advanced, risk-free simulations of medical interventions."
      ],
      "metadata": {
        "id": "ICvRCMQgLsiX"
      }
    },
    {
      "cell_type": "markdown",
      "source": [
        "MIMIC -||| dataset is used to build the baseline model. <br>\n",
        "What? Predicted based on historical data of similar profiles and standard treatments.<br>\n",
        "How? Combination of historical data analysis, modeling, and clinical insights.<br>\n",
        "Why?  It is useful for benchmarking and assessing improvements in patient outcomes. <br>\n",
        "\n",
        "The dataset had multiple files containing different info that we first have to merge, then data is cleaned, preprocessed. <br>\n",
        "\n",
        "Random forest regressor is used to build the model to predict Length of Stay of a patient based on standard procedures and interventions"
      ],
      "metadata": {
        "id": "7XLDno0ioPXp"
      }
    },
    {
      "cell_type": "code",
      "execution_count": null,
      "metadata": {
        "id": "cdZpcUVyahdd"
      },
      "outputs": [],
      "source": [
        "import pandas as pd\n",
        "\n",
        "# Load the datasets\n",
        "patients = pd.read_csv('PATIENTS.csv')\n",
        "admissions = pd.read_csv('ADMISSIONS.csv')\n",
        "icustays = pd.read_csv('ICUSTAYS.csv')\n",
        "diagnoses = pd.read_csv('DIAGNOSES_ICD.csv')\n",
        "procedures = pd.read_csv('PROCEDURES_ICD.csv')\n",
        "\n"
      ]
    },
    {
      "cell_type": "code",
      "source": [
        "# Inspect columns of each dataset\n",
        "print(\"Patients columns:\", patients.columns)\n",
        "print(\"Admissions columns:\", admissions.columns)\n",
        "print(\"ICU Stays columns:\", icustays.columns)\n",
        "print(\"Diagnoses columns:\", diagnoses.columns)\n",
        "print(\"Procedures columns:\", procedures.columns)\n"
      ],
      "metadata": {
        "colab": {
          "base_uri": "https://localhost:8080/"
        },
        "id": "Vzh1cnlwfPog",
        "outputId": "3e0fa495-33da-42f8-acc5-bf4257680370"
      },
      "execution_count": null,
      "outputs": [
        {
          "output_type": "stream",
          "name": "stdout",
          "text": [
            "Patients columns: Index(['row_id', 'subject_id', 'gender', 'dob', 'dod', 'dod_hosp', 'dod_ssn',\n",
            "       'expire_flag'],\n",
            "      dtype='object')\n",
            "Admissions columns: Index(['row_id', 'subject_id', 'hadm_id', 'admittime', 'dischtime',\n",
            "       'deathtime', 'admission_type', 'admission_location',\n",
            "       'discharge_location', 'insurance', 'language', 'religion',\n",
            "       'marital_status', 'ethnicity', 'edregtime', 'edouttime', 'diagnosis',\n",
            "       'hospital_expire_flag', 'has_chartevents_data'],\n",
            "      dtype='object')\n",
            "ICU Stays columns: Index(['row_id', 'subject_id', 'hadm_id', 'icustay_id', 'dbsource',\n",
            "       'first_careunit', 'last_careunit', 'first_wardid', 'last_wardid',\n",
            "       'intime', 'outtime', 'los'],\n",
            "      dtype='object')\n",
            "Diagnoses columns: Index(['row_id', 'subject_id', 'hadm_id', 'seq_num', 'icd9_code'], dtype='object')\n",
            "Procedures columns: Index(['row_id', 'subject_id', 'hadm_id', 'seq_num', 'icd9_code'], dtype='object')\n"
          ]
        }
      ]
    },
    {
      "cell_type": "code",
      "source": [
        "# Rename columns to avoid conflicts\n",
        "patients = patients.rename(columns={'subject_id': 'patient_subject_id', 'row_id': 'patients_row_id'})\n",
        "admissions = admissions.rename(columns={'subject_id': 'patient_subject_id', 'hadm_id': 'admission_id', 'row_id': 'admissions_row_id'})\n",
        "icustays = icustays.rename(columns={'subject_id': 'patient_subject_id', 'hadm_id': 'admission_id', 'row_id': 'icustays_row_id'})\n",
        "diagnoses = diagnoses.rename(columns={'subject_id': 'patient_subject_id', 'hadm_id': 'admission_id', 'row_id': 'diagnoses_row_id'})\n",
        "procedures = procedures.rename(columns={'subject_id': 'patient_subject_id', 'hadm_id': 'admission_id', 'row_id': 'procedures_row_id'})\n"
      ],
      "metadata": {
        "id": "wuHyVN0LhBNi"
      },
      "execution_count": null,
      "outputs": []
    },
    {
      "cell_type": "markdown",
      "source": [
        "Merging the data"
      ],
      "metadata": {
        "id": "2N4BpUFbph-2"
      }
    },
    {
      "cell_type": "code",
      "source": [
        "# Merge ADMISSIONS with PATIENTS\n",
        "admissions_patients = pd.merge(admissions, patients, left_on='patient_subject_id', right_on='patient_subject_id', how='inner')\n",
        "\n",
        "# Merge the result with ICUSTAYS\n",
        "admissions_patients_icustays = pd.merge(admissions_patients, icustays, left_on=['patient_subject_id', 'admission_id'], right_on=['patient_subject_id', 'admission_id'], how='left')\n",
        "\n",
        "# Merge the result with DIAGNOSES\n",
        "admissions_patients_icustays_diagnoses = pd.merge(admissions_patients_icustays, diagnoses, left_on=['patient_subject_id', 'admission_id'], right_on=['patient_subject_id', 'admission_id'], how='left')\n",
        "\n",
        "# Merge the result with PROCEDURES\n",
        "final_dataset = pd.merge(admissions_patients_icustays_diagnoses, procedures, left_on=['patient_subject_id', 'admission_id'], right_on=['patient_subject_id', 'admission_id'], how='left')\n"
      ],
      "metadata": {
        "id": "Bl8FYG8Zfa9c"
      },
      "execution_count": null,
      "outputs": []
    },
    {
      "cell_type": "code",
      "source": [
        "final_dataset.head()"
      ],
      "metadata": {
        "colab": {
          "base_uri": "https://localhost:8080/",
          "height": 429
        },
        "id": "xX7-h3MqgbJ6",
        "outputId": "acb853f0-d157-49f6-a370-d1f648417c90"
      },
      "execution_count": null,
      "outputs": [
        {
          "output_type": "execute_result",
          "data": {
            "text/plain": [
              "   admissions_row_id  patient_subject_id  admission_id            admittime  \\\n",
              "0              12258               10006        142345  2164-10-23 21:09:00   \n",
              "1              12258               10006        142345  2164-10-23 21:09:00   \n",
              "2              12258               10006        142345  2164-10-23 21:09:00   \n",
              "3              12258               10006        142345  2164-10-23 21:09:00   \n",
              "4              12258               10006        142345  2164-10-23 21:09:00   \n",
              "\n",
              "             dischtime deathtime admission_type    admission_location  \\\n",
              "0  2164-11-01 17:15:00       NaN      EMERGENCY  EMERGENCY ROOM ADMIT   \n",
              "1  2164-11-01 17:15:00       NaN      EMERGENCY  EMERGENCY ROOM ADMIT   \n",
              "2  2164-11-01 17:15:00       NaN      EMERGENCY  EMERGENCY ROOM ADMIT   \n",
              "3  2164-11-01 17:15:00       NaN      EMERGENCY  EMERGENCY ROOM ADMIT   \n",
              "4  2164-11-01 17:15:00       NaN      EMERGENCY  EMERGENCY ROOM ADMIT   \n",
              "\n",
              "  discharge_location insurance  ... last_wardid               intime  \\\n",
              "0   HOME HEALTH CARE  Medicare  ...          52  2164-10-23 21:10:15   \n",
              "1   HOME HEALTH CARE  Medicare  ...          52  2164-10-23 21:10:15   \n",
              "2   HOME HEALTH CARE  Medicare  ...          52  2164-10-23 21:10:15   \n",
              "3   HOME HEALTH CARE  Medicare  ...          52  2164-10-23 21:10:15   \n",
              "4   HOME HEALTH CARE  Medicare  ...          52  2164-10-23 21:10:15   \n",
              "\n",
              "               outtime     los diagnoses_row_id seq_num_x icd9_code_x  \\\n",
              "0  2164-10-25 12:21:07  1.6325           112344         1       99591   \n",
              "1  2164-10-25 12:21:07  1.6325           112344         1       99591   \n",
              "2  2164-10-25 12:21:07  1.6325           112344         1       99591   \n",
              "3  2164-10-25 12:21:07  1.6325           112344         1       99591   \n",
              "4  2164-10-25 12:21:07  1.6325           112344         1       99591   \n",
              "\n",
              "   procedures_row_id  seq_num_y  icd9_code_y  \n",
              "0            47335.0        1.0       9749.0  \n",
              "1            47336.0        2.0       5491.0  \n",
              "2            47337.0        3.0       3895.0  \n",
              "3            47338.0        4.0       3995.0  \n",
              "4            47339.0        5.0       3893.0  \n",
              "\n",
              "[5 rows x 42 columns]"
            ],
            "text/html": [
              "\n",
              "  <div id=\"df-a2851aa7-2402-48c2-aa6d-a63c0c8483a5\" class=\"colab-df-container\">\n",
              "    <div>\n",
              "<style scoped>\n",
              "    .dataframe tbody tr th:only-of-type {\n",
              "        vertical-align: middle;\n",
              "    }\n",
              "\n",
              "    .dataframe tbody tr th {\n",
              "        vertical-align: top;\n",
              "    }\n",
              "\n",
              "    .dataframe thead th {\n",
              "        text-align: right;\n",
              "    }\n",
              "</style>\n",
              "<table border=\"1\" class=\"dataframe\">\n",
              "  <thead>\n",
              "    <tr style=\"text-align: right;\">\n",
              "      <th></th>\n",
              "      <th>admissions_row_id</th>\n",
              "      <th>patient_subject_id</th>\n",
              "      <th>admission_id</th>\n",
              "      <th>admittime</th>\n",
              "      <th>dischtime</th>\n",
              "      <th>deathtime</th>\n",
              "      <th>admission_type</th>\n",
              "      <th>admission_location</th>\n",
              "      <th>discharge_location</th>\n",
              "      <th>insurance</th>\n",
              "      <th>...</th>\n",
              "      <th>last_wardid</th>\n",
              "      <th>intime</th>\n",
              "      <th>outtime</th>\n",
              "      <th>los</th>\n",
              "      <th>diagnoses_row_id</th>\n",
              "      <th>seq_num_x</th>\n",
              "      <th>icd9_code_x</th>\n",
              "      <th>procedures_row_id</th>\n",
              "      <th>seq_num_y</th>\n",
              "      <th>icd9_code_y</th>\n",
              "    </tr>\n",
              "  </thead>\n",
              "  <tbody>\n",
              "    <tr>\n",
              "      <th>0</th>\n",
              "      <td>12258</td>\n",
              "      <td>10006</td>\n",
              "      <td>142345</td>\n",
              "      <td>2164-10-23 21:09:00</td>\n",
              "      <td>2164-11-01 17:15:00</td>\n",
              "      <td>NaN</td>\n",
              "      <td>EMERGENCY</td>\n",
              "      <td>EMERGENCY ROOM ADMIT</td>\n",
              "      <td>HOME HEALTH CARE</td>\n",
              "      <td>Medicare</td>\n",
              "      <td>...</td>\n",
              "      <td>52</td>\n",
              "      <td>2164-10-23 21:10:15</td>\n",
              "      <td>2164-10-25 12:21:07</td>\n",
              "      <td>1.6325</td>\n",
              "      <td>112344</td>\n",
              "      <td>1</td>\n",
              "      <td>99591</td>\n",
              "      <td>47335.0</td>\n",
              "      <td>1.0</td>\n",
              "      <td>9749.0</td>\n",
              "    </tr>\n",
              "    <tr>\n",
              "      <th>1</th>\n",
              "      <td>12258</td>\n",
              "      <td>10006</td>\n",
              "      <td>142345</td>\n",
              "      <td>2164-10-23 21:09:00</td>\n",
              "      <td>2164-11-01 17:15:00</td>\n",
              "      <td>NaN</td>\n",
              "      <td>EMERGENCY</td>\n",
              "      <td>EMERGENCY ROOM ADMIT</td>\n",
              "      <td>HOME HEALTH CARE</td>\n",
              "      <td>Medicare</td>\n",
              "      <td>...</td>\n",
              "      <td>52</td>\n",
              "      <td>2164-10-23 21:10:15</td>\n",
              "      <td>2164-10-25 12:21:07</td>\n",
              "      <td>1.6325</td>\n",
              "      <td>112344</td>\n",
              "      <td>1</td>\n",
              "      <td>99591</td>\n",
              "      <td>47336.0</td>\n",
              "      <td>2.0</td>\n",
              "      <td>5491.0</td>\n",
              "    </tr>\n",
              "    <tr>\n",
              "      <th>2</th>\n",
              "      <td>12258</td>\n",
              "      <td>10006</td>\n",
              "      <td>142345</td>\n",
              "      <td>2164-10-23 21:09:00</td>\n",
              "      <td>2164-11-01 17:15:00</td>\n",
              "      <td>NaN</td>\n",
              "      <td>EMERGENCY</td>\n",
              "      <td>EMERGENCY ROOM ADMIT</td>\n",
              "      <td>HOME HEALTH CARE</td>\n",
              "      <td>Medicare</td>\n",
              "      <td>...</td>\n",
              "      <td>52</td>\n",
              "      <td>2164-10-23 21:10:15</td>\n",
              "      <td>2164-10-25 12:21:07</td>\n",
              "      <td>1.6325</td>\n",
              "      <td>112344</td>\n",
              "      <td>1</td>\n",
              "      <td>99591</td>\n",
              "      <td>47337.0</td>\n",
              "      <td>3.0</td>\n",
              "      <td>3895.0</td>\n",
              "    </tr>\n",
              "    <tr>\n",
              "      <th>3</th>\n",
              "      <td>12258</td>\n",
              "      <td>10006</td>\n",
              "      <td>142345</td>\n",
              "      <td>2164-10-23 21:09:00</td>\n",
              "      <td>2164-11-01 17:15:00</td>\n",
              "      <td>NaN</td>\n",
              "      <td>EMERGENCY</td>\n",
              "      <td>EMERGENCY ROOM ADMIT</td>\n",
              "      <td>HOME HEALTH CARE</td>\n",
              "      <td>Medicare</td>\n",
              "      <td>...</td>\n",
              "      <td>52</td>\n",
              "      <td>2164-10-23 21:10:15</td>\n",
              "      <td>2164-10-25 12:21:07</td>\n",
              "      <td>1.6325</td>\n",
              "      <td>112344</td>\n",
              "      <td>1</td>\n",
              "      <td>99591</td>\n",
              "      <td>47338.0</td>\n",
              "      <td>4.0</td>\n",
              "      <td>3995.0</td>\n",
              "    </tr>\n",
              "    <tr>\n",
              "      <th>4</th>\n",
              "      <td>12258</td>\n",
              "      <td>10006</td>\n",
              "      <td>142345</td>\n",
              "      <td>2164-10-23 21:09:00</td>\n",
              "      <td>2164-11-01 17:15:00</td>\n",
              "      <td>NaN</td>\n",
              "      <td>EMERGENCY</td>\n",
              "      <td>EMERGENCY ROOM ADMIT</td>\n",
              "      <td>HOME HEALTH CARE</td>\n",
              "      <td>Medicare</td>\n",
              "      <td>...</td>\n",
              "      <td>52</td>\n",
              "      <td>2164-10-23 21:10:15</td>\n",
              "      <td>2164-10-25 12:21:07</td>\n",
              "      <td>1.6325</td>\n",
              "      <td>112344</td>\n",
              "      <td>1</td>\n",
              "      <td>99591</td>\n",
              "      <td>47339.0</td>\n",
              "      <td>5.0</td>\n",
              "      <td>3893.0</td>\n",
              "    </tr>\n",
              "  </tbody>\n",
              "</table>\n",
              "<p>5 rows × 42 columns</p>\n",
              "</div>\n",
              "    <div class=\"colab-df-buttons\">\n",
              "\n",
              "  <div class=\"colab-df-container\">\n",
              "    <button class=\"colab-df-convert\" onclick=\"convertToInteractive('df-a2851aa7-2402-48c2-aa6d-a63c0c8483a5')\"\n",
              "            title=\"Convert this dataframe to an interactive table.\"\n",
              "            style=\"display:none;\">\n",
              "\n",
              "  <svg xmlns=\"http://www.w3.org/2000/svg\" height=\"24px\" viewBox=\"0 -960 960 960\">\n",
              "    <path d=\"M120-120v-720h720v720H120Zm60-500h600v-160H180v160Zm220 220h160v-160H400v160Zm0 220h160v-160H400v160ZM180-400h160v-160H180v160Zm440 0h160v-160H620v160ZM180-180h160v-160H180v160Zm440 0h160v-160H620v160Z\"/>\n",
              "  </svg>\n",
              "    </button>\n",
              "\n",
              "  <style>\n",
              "    .colab-df-container {\n",
              "      display:flex;\n",
              "      gap: 12px;\n",
              "    }\n",
              "\n",
              "    .colab-df-convert {\n",
              "      background-color: #E8F0FE;\n",
              "      border: none;\n",
              "      border-radius: 50%;\n",
              "      cursor: pointer;\n",
              "      display: none;\n",
              "      fill: #1967D2;\n",
              "      height: 32px;\n",
              "      padding: 0 0 0 0;\n",
              "      width: 32px;\n",
              "    }\n",
              "\n",
              "    .colab-df-convert:hover {\n",
              "      background-color: #E2EBFA;\n",
              "      box-shadow: 0px 1px 2px rgba(60, 64, 67, 0.3), 0px 1px 3px 1px rgba(60, 64, 67, 0.15);\n",
              "      fill: #174EA6;\n",
              "    }\n",
              "\n",
              "    .colab-df-buttons div {\n",
              "      margin-bottom: 4px;\n",
              "    }\n",
              "\n",
              "    [theme=dark] .colab-df-convert {\n",
              "      background-color: #3B4455;\n",
              "      fill: #D2E3FC;\n",
              "    }\n",
              "\n",
              "    [theme=dark] .colab-df-convert:hover {\n",
              "      background-color: #434B5C;\n",
              "      box-shadow: 0px 1px 3px 1px rgba(0, 0, 0, 0.15);\n",
              "      filter: drop-shadow(0px 1px 2px rgba(0, 0, 0, 0.3));\n",
              "      fill: #FFFFFF;\n",
              "    }\n",
              "  </style>\n",
              "\n",
              "    <script>\n",
              "      const buttonEl =\n",
              "        document.querySelector('#df-a2851aa7-2402-48c2-aa6d-a63c0c8483a5 button.colab-df-convert');\n",
              "      buttonEl.style.display =\n",
              "        google.colab.kernel.accessAllowed ? 'block' : 'none';\n",
              "\n",
              "      async function convertToInteractive(key) {\n",
              "        const element = document.querySelector('#df-a2851aa7-2402-48c2-aa6d-a63c0c8483a5');\n",
              "        const dataTable =\n",
              "          await google.colab.kernel.invokeFunction('convertToInteractive',\n",
              "                                                    [key], {});\n",
              "        if (!dataTable) return;\n",
              "\n",
              "        const docLinkHtml = 'Like what you see? Visit the ' +\n",
              "          '<a target=\"_blank\" href=https://colab.research.google.com/notebooks/data_table.ipynb>data table notebook</a>'\n",
              "          + ' to learn more about interactive tables.';\n",
              "        element.innerHTML = '';\n",
              "        dataTable['output_type'] = 'display_data';\n",
              "        await google.colab.output.renderOutput(dataTable, element);\n",
              "        const docLink = document.createElement('div');\n",
              "        docLink.innerHTML = docLinkHtml;\n",
              "        element.appendChild(docLink);\n",
              "      }\n",
              "    </script>\n",
              "  </div>\n",
              "\n",
              "\n",
              "<div id=\"df-b0629c23-19f5-439f-ab22-942cf09f7734\">\n",
              "  <button class=\"colab-df-quickchart\" onclick=\"quickchart('df-b0629c23-19f5-439f-ab22-942cf09f7734')\"\n",
              "            title=\"Suggest charts\"\n",
              "            style=\"display:none;\">\n",
              "\n",
              "<svg xmlns=\"http://www.w3.org/2000/svg\" height=\"24px\"viewBox=\"0 0 24 24\"\n",
              "     width=\"24px\">\n",
              "    <g>\n",
              "        <path d=\"M19 3H5c-1.1 0-2 .9-2 2v14c0 1.1.9 2 2 2h14c1.1 0 2-.9 2-2V5c0-1.1-.9-2-2-2zM9 17H7v-7h2v7zm4 0h-2V7h2v10zm4 0h-2v-4h2v4z\"/>\n",
              "    </g>\n",
              "</svg>\n",
              "  </button>\n",
              "\n",
              "<style>\n",
              "  .colab-df-quickchart {\n",
              "      --bg-color: #E8F0FE;\n",
              "      --fill-color: #1967D2;\n",
              "      --hover-bg-color: #E2EBFA;\n",
              "      --hover-fill-color: #174EA6;\n",
              "      --disabled-fill-color: #AAA;\n",
              "      --disabled-bg-color: #DDD;\n",
              "  }\n",
              "\n",
              "  [theme=dark] .colab-df-quickchart {\n",
              "      --bg-color: #3B4455;\n",
              "      --fill-color: #D2E3FC;\n",
              "      --hover-bg-color: #434B5C;\n",
              "      --hover-fill-color: #FFFFFF;\n",
              "      --disabled-bg-color: #3B4455;\n",
              "      --disabled-fill-color: #666;\n",
              "  }\n",
              "\n",
              "  .colab-df-quickchart {\n",
              "    background-color: var(--bg-color);\n",
              "    border: none;\n",
              "    border-radius: 50%;\n",
              "    cursor: pointer;\n",
              "    display: none;\n",
              "    fill: var(--fill-color);\n",
              "    height: 32px;\n",
              "    padding: 0;\n",
              "    width: 32px;\n",
              "  }\n",
              "\n",
              "  .colab-df-quickchart:hover {\n",
              "    background-color: var(--hover-bg-color);\n",
              "    box-shadow: 0 1px 2px rgba(60, 64, 67, 0.3), 0 1px 3px 1px rgba(60, 64, 67, 0.15);\n",
              "    fill: var(--button-hover-fill-color);\n",
              "  }\n",
              "\n",
              "  .colab-df-quickchart-complete:disabled,\n",
              "  .colab-df-quickchart-complete:disabled:hover {\n",
              "    background-color: var(--disabled-bg-color);\n",
              "    fill: var(--disabled-fill-color);\n",
              "    box-shadow: none;\n",
              "  }\n",
              "\n",
              "  .colab-df-spinner {\n",
              "    border: 2px solid var(--fill-color);\n",
              "    border-color: transparent;\n",
              "    border-bottom-color: var(--fill-color);\n",
              "    animation:\n",
              "      spin 1s steps(1) infinite;\n",
              "  }\n",
              "\n",
              "  @keyframes spin {\n",
              "    0% {\n",
              "      border-color: transparent;\n",
              "      border-bottom-color: var(--fill-color);\n",
              "      border-left-color: var(--fill-color);\n",
              "    }\n",
              "    20% {\n",
              "      border-color: transparent;\n",
              "      border-left-color: var(--fill-color);\n",
              "      border-top-color: var(--fill-color);\n",
              "    }\n",
              "    30% {\n",
              "      border-color: transparent;\n",
              "      border-left-color: var(--fill-color);\n",
              "      border-top-color: var(--fill-color);\n",
              "      border-right-color: var(--fill-color);\n",
              "    }\n",
              "    40% {\n",
              "      border-color: transparent;\n",
              "      border-right-color: var(--fill-color);\n",
              "      border-top-color: var(--fill-color);\n",
              "    }\n",
              "    60% {\n",
              "      border-color: transparent;\n",
              "      border-right-color: var(--fill-color);\n",
              "    }\n",
              "    80% {\n",
              "      border-color: transparent;\n",
              "      border-right-color: var(--fill-color);\n",
              "      border-bottom-color: var(--fill-color);\n",
              "    }\n",
              "    90% {\n",
              "      border-color: transparent;\n",
              "      border-bottom-color: var(--fill-color);\n",
              "    }\n",
              "  }\n",
              "</style>\n",
              "\n",
              "  <script>\n",
              "    async function quickchart(key) {\n",
              "      const quickchartButtonEl =\n",
              "        document.querySelector('#' + key + ' button');\n",
              "      quickchartButtonEl.disabled = true;  // To prevent multiple clicks.\n",
              "      quickchartButtonEl.classList.add('colab-df-spinner');\n",
              "      try {\n",
              "        const charts = await google.colab.kernel.invokeFunction(\n",
              "            'suggestCharts', [key], {});\n",
              "      } catch (error) {\n",
              "        console.error('Error during call to suggestCharts:', error);\n",
              "      }\n",
              "      quickchartButtonEl.classList.remove('colab-df-spinner');\n",
              "      quickchartButtonEl.classList.add('colab-df-quickchart-complete');\n",
              "    }\n",
              "    (() => {\n",
              "      let quickchartButtonEl =\n",
              "        document.querySelector('#df-b0629c23-19f5-439f-ab22-942cf09f7734 button');\n",
              "      quickchartButtonEl.style.display =\n",
              "        google.colab.kernel.accessAllowed ? 'block' : 'none';\n",
              "    })();\n",
              "  </script>\n",
              "</div>\n",
              "\n",
              "    </div>\n",
              "  </div>\n"
            ],
            "application/vnd.google.colaboratory.intrinsic+json": {
              "type": "dataframe",
              "variable_name": "final_dataset"
            }
          },
          "metadata": {},
          "execution_count": 6
        }
      ]
    },
    {
      "cell_type": "code",
      "source": [
        "final_dataset.info()"
      ],
      "metadata": {
        "colab": {
          "base_uri": "https://localhost:8080/"
        },
        "id": "gnJUKYLogc2h",
        "outputId": "0ee134ff-8a4c-4497-9935-30f542166783"
      },
      "execution_count": null,
      "outputs": [
        {
          "output_type": "stream",
          "name": "stdout",
          "text": [
            "<class 'pandas.core.frame.DataFrame'>\n",
            "RangeIndex: 8775 entries, 0 to 8774\n",
            "Data columns (total 42 columns):\n",
            " #   Column                Non-Null Count  Dtype  \n",
            "---  ------                --------------  -----  \n",
            " 0   admissions_row_id     8775 non-null   int64  \n",
            " 1   patient_subject_id    8775 non-null   int64  \n",
            " 2   admission_id          8775 non-null   int64  \n",
            " 3   admittime             8775 non-null   object \n",
            " 4   dischtime             8775 non-null   object \n",
            " 5   deathtime             3439 non-null   object \n",
            " 6   admission_type        8775 non-null   object \n",
            " 7   admission_location    8775 non-null   object \n",
            " 8   discharge_location    8775 non-null   object \n",
            " 9   insurance             8775 non-null   object \n",
            " 10  language              5776 non-null   object \n",
            " 11  religion              8712 non-null   object \n",
            " 12  marital_status        8071 non-null   object \n",
            " 13  ethnicity             8775 non-null   object \n",
            " 14  edregtime             5224 non-null   object \n",
            " 15  edouttime             5224 non-null   object \n",
            " 16  diagnosis             8775 non-null   object \n",
            " 17  hospital_expire_flag  8775 non-null   int64  \n",
            " 18  has_chartevents_data  8775 non-null   int64  \n",
            " 19  patients_row_id       8775 non-null   int64  \n",
            " 20  gender                8775 non-null   object \n",
            " 21  dob                   8775 non-null   object \n",
            " 22  dod                   8775 non-null   object \n",
            " 23  dod_hosp              6157 non-null   object \n",
            " 24  dod_ssn               7419 non-null   object \n",
            " 25  expire_flag           8775 non-null   int64  \n",
            " 26  icustays_row_id       8775 non-null   int64  \n",
            " 27  icustay_id            8775 non-null   int64  \n",
            " 28  dbsource              8775 non-null   object \n",
            " 29  first_careunit        8775 non-null   object \n",
            " 30  last_careunit         8775 non-null   object \n",
            " 31  first_wardid          8775 non-null   int64  \n",
            " 32  last_wardid           8775 non-null   int64  \n",
            " 33  intime                8775 non-null   object \n",
            " 34  outtime               8775 non-null   object \n",
            " 35  los                   8775 non-null   float64\n",
            " 36  diagnoses_row_id      8775 non-null   int64  \n",
            " 37  seq_num_x             8775 non-null   int64  \n",
            " 38  icd9_code_x           8775 non-null   object \n",
            " 39  procedures_row_id     8582 non-null   float64\n",
            " 40  seq_num_y             8582 non-null   float64\n",
            " 41  icd9_code_y           8582 non-null   float64\n",
            "dtypes: float64(4), int64(13), object(25)\n",
            "memory usage: 2.8+ MB\n"
          ]
        }
      ]
    },
    {
      "cell_type": "code",
      "source": [
        "import pandas as pd\n",
        "\n",
        "# Check for missing values\n",
        "missing_values = final_dataset.isnull().sum()\n",
        "print(\"Missing values before handling:\")\n",
        "print(missing_values)\n"
      ],
      "metadata": {
        "colab": {
          "base_uri": "https://localhost:8080/"
        },
        "id": "zaRlWpXggeZI",
        "outputId": "c8e62a79-fdd8-4282-8191-ccb70f6b03bd"
      },
      "execution_count": null,
      "outputs": [
        {
          "output_type": "stream",
          "name": "stdout",
          "text": [
            "Missing values before handling:\n",
            "admissions_row_id          0\n",
            "patient_subject_id         0\n",
            "admission_id               0\n",
            "admittime                  0\n",
            "dischtime                  0\n",
            "deathtime               5336\n",
            "admission_type             0\n",
            "admission_location         0\n",
            "discharge_location         0\n",
            "insurance                  0\n",
            "language                2999\n",
            "religion                  63\n",
            "marital_status           704\n",
            "ethnicity                  0\n",
            "edregtime               3551\n",
            "edouttime               3551\n",
            "diagnosis                  0\n",
            "hospital_expire_flag       0\n",
            "has_chartevents_data       0\n",
            "patients_row_id            0\n",
            "gender                     0\n",
            "dob                        0\n",
            "dod                        0\n",
            "dod_hosp                2618\n",
            "dod_ssn                 1356\n",
            "expire_flag                0\n",
            "icustays_row_id            0\n",
            "icustay_id                 0\n",
            "dbsource                   0\n",
            "first_careunit             0\n",
            "last_careunit              0\n",
            "first_wardid               0\n",
            "last_wardid                0\n",
            "intime                     0\n",
            "outtime                    0\n",
            "los                        0\n",
            "diagnoses_row_id           0\n",
            "seq_num_x                  0\n",
            "icd9_code_x                0\n",
            "procedures_row_id        193\n",
            "seq_num_y                193\n",
            "icd9_code_y              193\n",
            "dtype: int64\n"
          ]
        }
      ]
    },
    {
      "cell_type": "code",
      "source": [
        "# Calculate the percentage of missing values for each column\n",
        "missing_percentage = (final_dataset.isnull().sum() / len(final_dataset)) * 100\n",
        "print(\"Percentage of missing values for each column:\")\n",
        "print(missing_percentage)\n"
      ],
      "metadata": {
        "colab": {
          "base_uri": "https://localhost:8080/"
        },
        "id": "XiYLoa8diJXj",
        "outputId": "8cfe0f5e-df1d-4099-ac17-1f9b90cd2bfa"
      },
      "execution_count": null,
      "outputs": [
        {
          "output_type": "stream",
          "name": "stdout",
          "text": [
            "Percentage of missing values for each column:\n",
            "admissions_row_id        0.000000\n",
            "patient_subject_id       0.000000\n",
            "admission_id             0.000000\n",
            "admittime                0.000000\n",
            "dischtime                0.000000\n",
            "deathtime               60.809117\n",
            "admission_type           0.000000\n",
            "admission_location       0.000000\n",
            "discharge_location       0.000000\n",
            "insurance                0.000000\n",
            "language                34.176638\n",
            "religion                 0.717949\n",
            "marital_status           8.022792\n",
            "ethnicity                0.000000\n",
            "edregtime               40.467236\n",
            "edouttime               40.467236\n",
            "diagnosis                0.000000\n",
            "hospital_expire_flag     0.000000\n",
            "has_chartevents_data     0.000000\n",
            "patients_row_id          0.000000\n",
            "gender                   0.000000\n",
            "dob                      0.000000\n",
            "dod                      0.000000\n",
            "dod_hosp                29.834758\n",
            "dod_ssn                 15.452991\n",
            "expire_flag              0.000000\n",
            "icustays_row_id          0.000000\n",
            "icustay_id               0.000000\n",
            "dbsource                 0.000000\n",
            "first_careunit           0.000000\n",
            "last_careunit            0.000000\n",
            "first_wardid             0.000000\n",
            "last_wardid              0.000000\n",
            "intime                   0.000000\n",
            "outtime                  0.000000\n",
            "los                      0.000000\n",
            "diagnoses_row_id         0.000000\n",
            "seq_num_x                0.000000\n",
            "icd9_code_x              0.000000\n",
            "procedures_row_id        2.199430\n",
            "seq_num_y                2.199430\n",
            "icd9_code_y              2.199430\n",
            "dtype: float64\n"
          ]
        }
      ]
    },
    {
      "cell_type": "code",
      "source": [
        "import re\n",
        "\n",
        "def clean_date_format(date_series):\n",
        "    \"\"\"Remove invalid datetime entries.\"\"\"\n",
        "    # Define a regex pattern for valid date format, e.g., YYYY-MM-DD\n",
        "    valid_date_pattern = r'\\d{4}-\\d{2}-\\d{2}'\n",
        "\n",
        "    # Apply regex to filter valid date formats\n",
        "    date_series = date_series[date_series.apply(lambda x: bool(re.match(valid_date_pattern, str(x))))]\n",
        "\n",
        "    return date_series\n",
        "\n",
        "# Clean datetime columns\n",
        "final_dataset['edregtime'] = clean_date_format(final_dataset['edregtime'])\n",
        "final_dataset['edouttime'] = clean_date_format(final_dataset['edouttime'])\n",
        "final_dataset['dod_hosp'] = clean_date_format(final_dataset['dod_hosp'])\n",
        "\n",
        "# Convert to datetime\n",
        "final_dataset['edregtime'] = pd.to_datetime(final_dataset['edregtime'], errors='coerce')\n",
        "final_dataset['edouttime'] = pd.to_datetime(final_dataset['edouttime'], errors='coerce')\n",
        "final_dataset['dod_hosp'] = pd.to_datetime(final_dataset['dod_hosp'], errors='coerce')\n"
      ],
      "metadata": {
        "id": "5Za_RmdVjH6p"
      },
      "execution_count": null,
      "outputs": []
    },
    {
      "cell_type": "code",
      "source": [
        " # Fill missing values in `language` with the mode\n",
        "final_dataset['language'].fillna(final_dataset['language'].mode()[0], inplace=True)\n",
        "\n",
        "# Fill missing values in `dod_ssn` with median\n",
        "# Ensure 'dod_ssn' is numeric if used for median calculation\n",
        "final_dataset['dod_ssn'] = pd.to_numeric(final_dataset['dod_ssn'], errors='coerce')\n",
        "final_dataset['dod_ssn'].fillna(final_dataset['dod_ssn'].median(), inplace=True)\n",
        "\n",
        "# Fill missing values in `marital_status` with mode\n",
        "final_dataset['marital_status'].fillna(final_dataset['marital_status'].mode()[0], inplace=True)\n",
        "\n",
        "# Handle missing values in `procedures` columns\n",
        "# Ensure `seq_num_y` is numeric if used for median calculation\n",
        "final_dataset['seq_num_y'] = pd.to_numeric(final_dataset['seq_num_y'], errors='coerce')\n",
        "final_dataset['seq_num_y'].fillna(final_dataset['seq_num_y'].mode()[0], inplace=True)\n",
        "final_dataset['icd9_code_y'].fillna(final_dataset['icd9_code_y'].mode()[0], inplace=True)\n",
        "\n",
        "# Drop rows with missing values in crucial columns if necessary\n",
        "final_dataset.dropna(subset=['seq_num_y', 'icd9_code_y'], inplace=True)\n",
        "\n",
        "# Verify if there are any remaining missing values\n",
        "missing_values_after = final_dataset.isnull().sum()\n",
        "print(\"Missing values after handling:\")\n",
        "print(missing_values_after)\n"
      ],
      "metadata": {
        "colab": {
          "base_uri": "https://localhost:8080/"
        },
        "id": "jaXSJTbsjjZB",
        "outputId": "8381295b-de9d-4e6c-e29c-092e6201f629"
      },
      "execution_count": null,
      "outputs": [
        {
          "output_type": "stream",
          "name": "stdout",
          "text": [
            "Missing values after handling:\n",
            "admissions_row_id          0\n",
            "patient_subject_id         0\n",
            "admission_id               0\n",
            "admittime                  0\n",
            "dischtime                  0\n",
            "deathtime               5336\n",
            "admission_type             0\n",
            "admission_location         0\n",
            "discharge_location         0\n",
            "insurance                  0\n",
            "language                   0\n",
            "religion                  63\n",
            "marital_status             0\n",
            "ethnicity                  0\n",
            "edregtime               3551\n",
            "edouttime               3551\n",
            "diagnosis                  0\n",
            "hospital_expire_flag       0\n",
            "has_chartevents_data       0\n",
            "patients_row_id            0\n",
            "gender                     0\n",
            "dob                        0\n",
            "dod                        0\n",
            "dod_hosp                2618\n",
            "dod_ssn                 8775\n",
            "expire_flag                0\n",
            "icustays_row_id            0\n",
            "icustay_id                 0\n",
            "dbsource                   0\n",
            "first_careunit             0\n",
            "last_careunit              0\n",
            "first_wardid               0\n",
            "last_wardid                0\n",
            "intime                     0\n",
            "outtime                    0\n",
            "los                        0\n",
            "diagnoses_row_id           0\n",
            "seq_num_x                  0\n",
            "icd9_code_x                0\n",
            "procedures_row_id        193\n",
            "seq_num_y                  0\n",
            "icd9_code_y                0\n",
            "dtype: int64\n"
          ]
        },
        {
          "output_type": "stream",
          "name": "stderr",
          "text": [
            "/usr/local/lib/python3.10/dist-packages/numpy/lib/nanfunctions.py:1215: RuntimeWarning: Mean of empty slice\n",
            "  return np.nanmean(a, axis, out=out, keepdims=keepdims)\n"
          ]
        }
      ]
    },
    {
      "cell_type": "code",
      "source": [
        "# Check if final_dataset is empty\n",
        "print(\"Is final_dataset empty?\", final_dataset.empty)\n",
        "print(\"Number of rows in final_dataset:\", len(final_dataset))\n",
        "print(\"Sample data from final_dataset:\\n\", final_dataset.head())\n"
      ],
      "metadata": {
        "colab": {
          "base_uri": "https://localhost:8080/"
        },
        "id": "roIXGnNpqTyn",
        "outputId": "c854d537-3038-4af0-9ea3-70a247414f27"
      },
      "execution_count": null,
      "outputs": [
        {
          "output_type": "stream",
          "name": "stdout",
          "text": [
            "Is final_dataset empty? False\n",
            "Number of rows in final_dataset: 8775\n",
            "Sample data from final_dataset:\n",
            "    admissions_row_id  patient_subject_id  admission_id            admittime  \\\n",
            "0              12258               10006        142345  2164-10-23 21:09:00   \n",
            "1              12258               10006        142345  2164-10-23 21:09:00   \n",
            "2              12258               10006        142345  2164-10-23 21:09:00   \n",
            "3              12258               10006        142345  2164-10-23 21:09:00   \n",
            "4              12258               10006        142345  2164-10-23 21:09:00   \n",
            "\n",
            "             dischtime deathtime admission_type    admission_location  \\\n",
            "0  2164-11-01 17:15:00       NaN      EMERGENCY  EMERGENCY ROOM ADMIT   \n",
            "1  2164-11-01 17:15:00       NaN      EMERGENCY  EMERGENCY ROOM ADMIT   \n",
            "2  2164-11-01 17:15:00       NaN      EMERGENCY  EMERGENCY ROOM ADMIT   \n",
            "3  2164-11-01 17:15:00       NaN      EMERGENCY  EMERGENCY ROOM ADMIT   \n",
            "4  2164-11-01 17:15:00       NaN      EMERGENCY  EMERGENCY ROOM ADMIT   \n",
            "\n",
            "  discharge_location insurance  ... last_wardid               intime  \\\n",
            "0   HOME HEALTH CARE  Medicare  ...          52  2164-10-23 21:10:15   \n",
            "1   HOME HEALTH CARE  Medicare  ...          52  2164-10-23 21:10:15   \n",
            "2   HOME HEALTH CARE  Medicare  ...          52  2164-10-23 21:10:15   \n",
            "3   HOME HEALTH CARE  Medicare  ...          52  2164-10-23 21:10:15   \n",
            "4   HOME HEALTH CARE  Medicare  ...          52  2164-10-23 21:10:15   \n",
            "\n",
            "               outtime     los diagnoses_row_id seq_num_x icd9_code_x  \\\n",
            "0  2164-10-25 12:21:07  1.6325           112344         1       99591   \n",
            "1  2164-10-25 12:21:07  1.6325           112344         1       99591   \n",
            "2  2164-10-25 12:21:07  1.6325           112344         1       99591   \n",
            "3  2164-10-25 12:21:07  1.6325           112344         1       99591   \n",
            "4  2164-10-25 12:21:07  1.6325           112344         1       99591   \n",
            "\n",
            "   procedures_row_id  seq_num_y  icd9_code_y  \n",
            "0            47335.0        1.0       9749.0  \n",
            "1            47336.0        2.0       5491.0  \n",
            "2            47337.0        3.0       3895.0  \n",
            "3            47338.0        4.0       3995.0  \n",
            "4            47339.0        5.0       3893.0  \n",
            "\n",
            "[5 rows x 42 columns]\n"
          ]
        }
      ]
    },
    {
      "cell_type": "code",
      "source": [
        "# Fill missing values in `religion` with the mode\n",
        "final_dataset['religion'].fillna(final_dataset['religion'].mode()[0], inplace=True)\n"
      ],
      "metadata": {
        "id": "HRN4uST9j_OF"
      },
      "execution_count": null,
      "outputs": []
    },
    {
      "cell_type": "code",
      "source": [
        "# Convert to numeric if necessary, then fill missing values with the median\n",
        "final_dataset['dod_ssn'] = pd.to_numeric(final_dataset['dod_ssn'], errors='coerce')\n",
        "final_dataset['dod_ssn'].fillna(final_dataset['dod_ssn'].median(), inplace=True)\n"
      ],
      "metadata": {
        "colab": {
          "base_uri": "https://localhost:8080/"
        },
        "id": "KUXzPRWfkfy3",
        "outputId": "9dc69acc-2c6d-4fd8-b3f4-01375ff26ff9"
      },
      "execution_count": null,
      "outputs": [
        {
          "output_type": "stream",
          "name": "stderr",
          "text": [
            "/usr/local/lib/python3.10/dist-packages/numpy/lib/nanfunctions.py:1215: RuntimeWarning: Mean of empty slice\n",
            "  return np.nanmean(a, axis, out=out, keepdims=keepdims)\n"
          ]
        }
      ]
    },
    {
      "cell_type": "code",
      "source": [
        "\n",
        "\n",
        "# Convert to numeric if necessary, then fill missing values with the mode\n",
        "final_dataset['procedures_row_id'] = pd.to_numeric(final_dataset['procedures_row_id'], errors='coerce')\n",
        "final_dataset['procedures_row_id'].fillna(final_dataset['procedures_row_id'].mode()[0], inplace=True)\n"
      ],
      "metadata": {
        "id": "oKZ2pxe4kmuA"
      },
      "execution_count": null,
      "outputs": []
    },
    {
      "cell_type": "code",
      "source": [
        "# Verify if there are any remaining missing values\n",
        "missing_values_after = final_dataset.isnull().sum()\n",
        "print(\"Missing values after final handling:\")\n",
        "print(missing_values_after)\n"
      ],
      "metadata": {
        "colab": {
          "base_uri": "https://localhost:8080/"
        },
        "id": "6UnyOWoCksWC",
        "outputId": "5f9ec52a-af8a-4224-84d0-4eef9891d1bb"
      },
      "execution_count": null,
      "outputs": [
        {
          "output_type": "stream",
          "name": "stdout",
          "text": [
            "Missing values after final handling:\n",
            "admissions_row_id          0\n",
            "patient_subject_id         0\n",
            "admission_id               0\n",
            "admittime                  0\n",
            "dischtime                  0\n",
            "deathtime               5336\n",
            "admission_type             0\n",
            "admission_location         0\n",
            "discharge_location         0\n",
            "insurance                  0\n",
            "language                   0\n",
            "religion                   0\n",
            "marital_status             0\n",
            "ethnicity                  0\n",
            "edregtime               3551\n",
            "edouttime               3551\n",
            "diagnosis                  0\n",
            "hospital_expire_flag       0\n",
            "has_chartevents_data       0\n",
            "patients_row_id            0\n",
            "gender                     0\n",
            "dob                        0\n",
            "dod                        0\n",
            "dod_hosp                2618\n",
            "dod_ssn                 8775\n",
            "expire_flag                0\n",
            "icustays_row_id            0\n",
            "icustay_id                 0\n",
            "dbsource                   0\n",
            "first_careunit             0\n",
            "last_careunit              0\n",
            "first_wardid               0\n",
            "last_wardid                0\n",
            "intime                     0\n",
            "outtime                    0\n",
            "los                        0\n",
            "diagnoses_row_id           0\n",
            "seq_num_x                  0\n",
            "icd9_code_x                0\n",
            "procedures_row_id          0\n",
            "seq_num_y                  0\n",
            "icd9_code_y                0\n",
            "dtype: int64\n"
          ]
        }
      ]
    },
    {
      "cell_type": "code",
      "source": [
        "final_dataset['dod_ssn'].fillna('Unknown', inplace=True)\n"
      ],
      "metadata": {
        "colab": {
          "base_uri": "https://localhost:8080/"
        },
        "id": "4yRq8SPYkuHL",
        "outputId": "24df2b88-f57d-4917-8bb9-465d3f635877"
      },
      "execution_count": null,
      "outputs": [
        {
          "output_type": "stream",
          "name": "stderr",
          "text": [
            "<ipython-input-17-190416d49804>:1: FutureWarning: Setting an item of incompatible dtype is deprecated and will raise in a future error of pandas. Value 'Unknown' has dtype incompatible with float64, please explicitly cast to a compatible dtype first.\n",
            "  final_dataset['dod_ssn'].fillna('Unknown', inplace=True)\n"
          ]
        }
      ]
    },
    {
      "cell_type": "code",
      "source": [
        "# Verify if there are any remaining missing values\n",
        "missing_values_after = final_dataset.isnull().sum()\n",
        "print(\"Missing values after final handling:\")\n",
        "print(missing_values_after)"
      ],
      "metadata": {
        "colab": {
          "base_uri": "https://localhost:8080/"
        },
        "id": "AtTGrd1GlpkA",
        "outputId": "69682fc8-34ee-4d7e-8e1b-d5f3434b4745"
      },
      "execution_count": null,
      "outputs": [
        {
          "output_type": "stream",
          "name": "stdout",
          "text": [
            "Missing values after final handling:\n",
            "admissions_row_id          0\n",
            "patient_subject_id         0\n",
            "admission_id               0\n",
            "admittime                  0\n",
            "dischtime                  0\n",
            "deathtime               5336\n",
            "admission_type             0\n",
            "admission_location         0\n",
            "discharge_location         0\n",
            "insurance                  0\n",
            "language                   0\n",
            "religion                   0\n",
            "marital_status             0\n",
            "ethnicity                  0\n",
            "edregtime               3551\n",
            "edouttime               3551\n",
            "diagnosis                  0\n",
            "hospital_expire_flag       0\n",
            "has_chartevents_data       0\n",
            "patients_row_id            0\n",
            "gender                     0\n",
            "dob                        0\n",
            "dod                        0\n",
            "dod_hosp                2618\n",
            "dod_ssn                    0\n",
            "expire_flag                0\n",
            "icustays_row_id            0\n",
            "icustay_id                 0\n",
            "dbsource                   0\n",
            "first_careunit             0\n",
            "last_careunit              0\n",
            "first_wardid               0\n",
            "last_wardid                0\n",
            "intime                     0\n",
            "outtime                    0\n",
            "los                        0\n",
            "diagnoses_row_id           0\n",
            "seq_num_x                  0\n",
            "icd9_code_x                0\n",
            "procedures_row_id          0\n",
            "seq_num_y                  0\n",
            "icd9_code_y                0\n",
            "dtype: int64\n"
          ]
        }
      ]
    },
    {
      "cell_type": "code",
      "source": [
        "# Convert date columns to datetime format\n",
        "final_dataset['admittime'] = pd.to_datetime(final_dataset['admittime'])\n",
        "final_dataset['dischtime'] = pd.to_datetime(final_dataset['dischtime'])\n",
        "final_dataset['edregtime'] = pd.to_datetime(final_dataset['edregtime'])\n",
        "final_dataset['edouttime'] = pd.to_datetime(final_dataset['edouttime'])\n",
        "final_dataset['dod'] = pd.to_datetime(final_dataset['dod'])\n",
        "final_dataset['dod_hosp'] = pd.to_datetime(final_dataset['dod_hosp'])\n",
        "final_dataset['dod_ssn'] = pd.to_datetime(final_dataset['dod_ssn'], errors='coerce')\n",
        "final_dataset['intime'] = pd.to_datetime(final_dataset['intime'])\n",
        "final_dataset['outtime'] = pd.to_datetime(final_dataset['outtime'])\n"
      ],
      "metadata": {
        "id": "wfAogJKRl3hO"
      },
      "execution_count": null,
      "outputs": []
    },
    {
      "cell_type": "code",
      "source": [
        "# Calculate Length of Stay (LOS) if not present\n",
        "final_dataset['calculated_los'] = (final_dataset['outtime'] - final_dataset['intime']).dt.total_seconds() / 86400  # LOS in days\n"
      ],
      "metadata": {
        "id": "4-Ci73D_mKh-"
      },
      "execution_count": null,
      "outputs": []
    },
    {
      "cell_type": "code",
      "source": [
        "# Convert dob column to datetime format\n",
        "final_dataset['dob'] = pd.to_datetime(final_dataset['dob'], errors='coerce')\n"
      ],
      "metadata": {
        "id": "4dDlRVSLmah6"
      },
      "execution_count": null,
      "outputs": []
    },
    {
      "cell_type": "code",
      "source": [
        "# Calculate age from date of birth\n",
        "final_dataset['age'] = (pd.to_datetime('today') - final_dataset['dob']).dt.days // 365\n"
      ],
      "metadata": {
        "id": "IpIKsTSjmMor"
      },
      "execution_count": null,
      "outputs": []
    },
    {
      "cell_type": "code",
      "source": [
        "# Check the types of columns to ensure 'dob' is now datetime\n",
        "print(final_dataset.dtypes)\n"
      ],
      "metadata": {
        "colab": {
          "base_uri": "https://localhost:8080/"
        },
        "id": "vhXTH1CwmSac",
        "outputId": "0fb63039-ee1b-4c32-81a8-d06c59cd4ec1"
      },
      "execution_count": null,
      "outputs": [
        {
          "output_type": "stream",
          "name": "stdout",
          "text": [
            "admissions_row_id                int64\n",
            "patient_subject_id               int64\n",
            "admission_id                     int64\n",
            "admittime               datetime64[ns]\n",
            "dischtime               datetime64[ns]\n",
            "deathtime                       object\n",
            "admission_type                  object\n",
            "admission_location              object\n",
            "discharge_location              object\n",
            "insurance                       object\n",
            "language                        object\n",
            "religion                        object\n",
            "marital_status                  object\n",
            "ethnicity                       object\n",
            "edregtime               datetime64[ns]\n",
            "edouttime               datetime64[ns]\n",
            "diagnosis                       object\n",
            "hospital_expire_flag             int64\n",
            "has_chartevents_data             int64\n",
            "patients_row_id                  int64\n",
            "gender                          object\n",
            "dob                     datetime64[ns]\n",
            "dod                     datetime64[ns]\n",
            "dod_hosp                datetime64[ns]\n",
            "dod_ssn                 datetime64[ns]\n",
            "expire_flag                      int64\n",
            "icustays_row_id                  int64\n",
            "icustay_id                       int64\n",
            "dbsource                        object\n",
            "first_careunit                  object\n",
            "last_careunit                   object\n",
            "first_wardid                     int64\n",
            "last_wardid                      int64\n",
            "intime                  datetime64[ns]\n",
            "outtime                 datetime64[ns]\n",
            "los                            float64\n",
            "diagnoses_row_id                 int64\n",
            "seq_num_x                        int64\n",
            "icd9_code_x                     object\n",
            "procedures_row_id              float64\n",
            "seq_num_y                      float64\n",
            "icd9_code_y                    float64\n",
            "calculated_los                 float64\n",
            "age                              int64\n",
            "dtype: object\n"
          ]
        }
      ]
    },
    {
      "cell_type": "code",
      "source": [
        "import pandas as pd\n",
        "from sklearn.preprocessing import LabelEncoder\n",
        "\n",
        "# Initialize LabelEncoders\n",
        "label_encoders = {}\n",
        "categorical_columns = ['admission_type', 'admission_location', 'discharge_location', 'insurance', 'language', 'religion', 'ethnicity']\n",
        "\n",
        "# Apply label encoding to categorical columns\n",
        "for col in categorical_columns:\n",
        "    le = LabelEncoder()\n",
        "    final_dataset[col] = le.fit_transform(final_dataset[col].astype(str))\n",
        "    label_encoders[col] = le\n",
        "\n",
        "# Verify the encoding\n",
        "print(final_dataset[categorical_columns].head())\n"
      ],
      "metadata": {
        "colab": {
          "base_uri": "https://localhost:8080/"
        },
        "id": "DlMtySg8ms2c",
        "outputId": "7fd540d4-adf4-42cc-a5de-ed583e381fa0"
      },
      "execution_count": null,
      "outputs": [
        {
          "output_type": "stream",
          "name": "stdout",
          "text": [
            "   admission_type  admission_location  discharge_location  insurance  \\\n",
            "0               1                   1                   3          2   \n",
            "1               1                   1                   3          2   \n",
            "2               1                   1                   3          2   \n",
            "3               1                   1                   3          2   \n",
            "4               1                   1                   3          2   \n",
            "\n",
            "   language  religion  ethnicity  \n",
            "0         0         1          2  \n",
            "1         0         1          2  \n",
            "2         0         1          2  \n",
            "3         0         1          2  \n",
            "4         0         1          2  \n"
          ]
        }
      ]
    },
    {
      "cell_type": "code",
      "source": [
        "print(final_dataset.columns)"
      ],
      "metadata": {
        "colab": {
          "base_uri": "https://localhost:8080/"
        },
        "id": "zcA3WPC4nuYx",
        "outputId": "fc4f775a-79ee-4c57-c646-833a8cb091b4"
      },
      "execution_count": null,
      "outputs": [
        {
          "output_type": "stream",
          "name": "stdout",
          "text": [
            "Index(['admissions_row_id', 'patient_subject_id', 'admission_id', 'admittime',\n",
            "       'dischtime', 'deathtime', 'admission_type', 'admission_location',\n",
            "       'discharge_location', 'insurance', 'language', 'religion',\n",
            "       'marital_status', 'ethnicity', 'edregtime', 'edouttime', 'diagnosis',\n",
            "       'hospital_expire_flag', 'has_chartevents_data', 'patients_row_id',\n",
            "       'gender', 'dob', 'dod', 'dod_hosp', 'dod_ssn', 'expire_flag',\n",
            "       'icustays_row_id', 'icustay_id', 'dbsource', 'first_careunit',\n",
            "       'last_careunit', 'first_wardid', 'last_wardid', 'intime', 'outtime',\n",
            "       'los', 'diagnoses_row_id', 'seq_num_x', 'icd9_code_x',\n",
            "       'procedures_row_id', 'seq_num_y', 'icd9_code_y', 'calculated_los',\n",
            "       'age'],\n",
            "      dtype='object')\n"
          ]
        }
      ]
    },
    {
      "cell_type": "code",
      "source": [
        "# Define target and features\n",
        "target = 'calculated_los'\n",
        "features = [\n",
        "    'admission_type', 'admission_location', 'discharge_location', 'insurance',\n",
        "    'language', 'religion', 'marital_status', 'ethnicity', 'gender',\n",
        "    'dbsource', 'first_careunit', 'last_careunit', 'first_wardid',\n",
        "    'last_wardid', 'icd9_code_x', 'icd9_code_y', 'age', 'hospital_expire_flag'\n",
        "]\n",
        "\n",
        "# Drop rows where target is missing\n",
        "final_dataset = final_dataset.dropna(subset=[target])\n",
        "\n",
        "# Check if all feature columns are in the final_dataset\n",
        "missing_features = [col for col in features if col not in final_dataset.columns]\n",
        "if missing_features:\n",
        "    print(\"Missing feature columns:\", missing_features)\n",
        "else:\n",
        "    print(\"All feature columns are present.\")"
      ],
      "metadata": {
        "colab": {
          "base_uri": "https://localhost:8080/"
        },
        "id": "-bQ4qQVKpMhK",
        "outputId": "a3e9336f-9e9a-4b36-9261-eebea09adfcc"
      },
      "execution_count": null,
      "outputs": [
        {
          "output_type": "stream",
          "name": "stdout",
          "text": [
            "All feature columns are present.\n"
          ]
        }
      ]
    },
    {
      "cell_type": "code",
      "source": [
        "# List all columns in final_dataset\n",
        "print(\"Columns in final_dataset:\\n\", final_dataset.columns)\n"
      ],
      "metadata": {
        "colab": {
          "base_uri": "https://localhost:8080/"
        },
        "id": "n-KVIW8ApW-Z",
        "outputId": "5732ebbc-a23f-43f9-f9cb-3c35a9dc205e"
      },
      "execution_count": null,
      "outputs": [
        {
          "output_type": "stream",
          "name": "stdout",
          "text": [
            "Columns in final_dataset:\n",
            " Index(['admissions_row_id', 'patient_subject_id', 'admission_id', 'admittime',\n",
            "       'dischtime', 'deathtime', 'admission_type', 'admission_location',\n",
            "       'discharge_location', 'insurance', 'language', 'religion',\n",
            "       'marital_status', 'ethnicity', 'edregtime', 'edouttime', 'diagnosis',\n",
            "       'hospital_expire_flag', 'has_chartevents_data', 'patients_row_id',\n",
            "       'gender', 'dob', 'dod', 'dod_hosp', 'dod_ssn', 'expire_flag',\n",
            "       'icustays_row_id', 'icustay_id', 'dbsource', 'first_careunit',\n",
            "       'last_careunit', 'first_wardid', 'last_wardid', 'intime', 'outtime',\n",
            "       'los', 'diagnoses_row_id', 'seq_num_x', 'icd9_code_x',\n",
            "       'procedures_row_id', 'seq_num_y', 'icd9_code_y', 'calculated_los',\n",
            "       'age'],\n",
            "      dtype='object')\n"
          ]
        }
      ]
    },
    {
      "cell_type": "code",
      "source": [
        "# Define feature matrix X and target variable y\n",
        "X = final_dataset[features]\n",
        "y = final_dataset[target]\n",
        "\n",
        "# Remove rows with missing values in features and target\n",
        "X = X.dropna()\n",
        "y = y[X.index]  # Ensure y matches the index of X\n",
        "\n",
        "# Check if X and y have the same number of samples\n",
        "assert len(X) == len(y), \"Mismatch between X and y lengths after alignment\"\n"
      ],
      "metadata": {
        "id": "4Ml90DVbr_o-"
      },
      "execution_count": null,
      "outputs": []
    },
    {
      "cell_type": "code",
      "source": [
        "# Continue with preprocessing and modeling\n",
        "from sklearn.preprocessing import StandardScaler, OneHotEncoder\n",
        "from sklearn.compose import ColumnTransformer\n",
        "from sklearn.pipeline import Pipeline\n",
        "from sklearn.impute import SimpleImputer\n",
        "from sklearn.model_selection import train_test_split\n",
        "from sklearn.ensemble import RandomForestRegressor\n",
        "from sklearn.metrics import mean_squared_error\n",
        "\n",
        "# Identify categorical and numerical features\n",
        "categorical_features = [\n",
        "    'admission_type', 'admission_location', 'discharge_location', 'insurance',\n",
        "    'language', 'religion', 'marital_status', 'ethnicity', 'gender',\n",
        "    'dbsource', 'first_careunit', 'last_careunit', 'first_wardid',\n",
        "    'last_wardid', 'icd9_code_x', 'icd9_code_y'\n",
        "]\n",
        "\n",
        "numerical_features = ['age', 'hospital_expire_flag']\n",
        "\n",
        "# Preprocessing for numerical data\n",
        "numerical_pipeline = Pipeline(steps=[\n",
        "    ('imputer', SimpleImputer(strategy='median')),\n",
        "    ('scaler', StandardScaler())])\n",
        "\n",
        "# Preprocessing for categorical data\n",
        "categorical_pipeline = Pipeline(steps=[\n",
        "    ('imputer', SimpleImputer(strategy='most_frequent')),\n",
        "    ('onehot', OneHotEncoder(handle_unknown='ignore'))])\n",
        "\n",
        "# Combine pipelines into a preprocessor\n",
        "preprocessor = ColumnTransformer(\n",
        "    transformers=[\n",
        "        ('num', numerical_pipeline, numerical_features),\n",
        "        ('cat', categorical_pipeline, categorical_features)])"
      ],
      "metadata": {
        "id": "Zuvlm64glXRG"
      },
      "execution_count": null,
      "outputs": []
    },
    {
      "cell_type": "code",
      "source": [
        "# Define the feature matrix and target variable\n",
        "X_processed = preprocessor.fit_transform(X)\n",
        "\n",
        "# Define the model\n",
        "model = RandomForestRegressor(random_state=42)\n",
        "\n",
        "# Split the data\n",
        "X_train, X_test, y_train, y_test = train_test_split(X_processed, y, test_size=0.2, random_state=42)\n",
        "\n",
        "# Train the model\n",
        "model.fit(X_train, y_train)\n",
        "\n",
        "# Predict and evaluate\n",
        "y_pred = model.predict(X_test)\n",
        "print(\"Mean Squared Error:\", mean_squared_error(y_test, y_pred))"
      ],
      "metadata": {
        "colab": {
          "base_uri": "https://localhost:8080/"
        },
        "id": "YDWOet03mg52",
        "outputId": "b14dfeed-0bc0-4495-fd7f-a6a345256c75"
      },
      "execution_count": null,
      "outputs": [
        {
          "output_type": "stream",
          "name": "stdout",
          "text": [
            "Mean Squared Error: 4.715713870509643\n"
          ]
        }
      ]
    },
    {
      "cell_type": "code",
      "source": [
        "y_pred"
      ],
      "metadata": {
        "colab": {
          "base_uri": "https://localhost:8080/"
        },
        "id": "h8iYLZaHM1xz",
        "outputId": "d02f86af-3a87-43e3-9d6b-cbe448b02fcc"
      },
      "execution_count": null,
      "outputs": [
        {
          "output_type": "execute_result",
          "data": {
            "text/plain": [
              "array([ 1.27621528,  4.90429086, 22.38947917, ...,  8.14148148,\n",
              "        0.65486111, 19.57613426])"
            ]
          },
          "metadata": {},
          "execution_count": 31
        }
      ]
    },
    {
      "cell_type": "code",
      "source": [],
      "metadata": {
        "id": "ozBSmJLF34Rm"
      },
      "execution_count": null,
      "outputs": []
    },
    {
      "cell_type": "markdown",
      "source": [
        "![image.png](data:image/png;base64,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)"
      ],
      "metadata": {
        "id": "kpEo0DCwvm0H"
      }
    },
    {
      "cell_type": "markdown",
      "source": [
        "Using the above defined statistics, we can model to simulate how various treatments and dosages affect patient outcomes, specifically focusing on metrics like Length of Stay (LOS) improvements"
      ],
      "metadata": {
        "id": "GaN2V6G6wGWM"
      }
    },
    {
      "cell_type": "code",
      "source": [
        "import pandas as pd\n",
        "import numpy as np\n",
        "from sklearn.preprocessing import LabelEncoder\n",
        "from sklearn.ensemble import RandomForestRegressor\n",
        "from sklearn.model_selection import train_test_split\n",
        "from sklearn.metrics import mean_squared_error\n",
        "\n",
        "# Simulate data\n",
        "np.random.seed(42)\n",
        "n_patients = 20  # Number of patients to simulate\n",
        "\n",
        "# Sample patient data\n",
        "data = {\n",
        "    'age': np.random.randint(20, 80, size=n_patients),\n",
        "    'gender': np.random.choice(['Male', 'Female'], size=n_patients),\n",
        "    'insurance': np.random.choice(['Insurance_A', 'Insurance_B', 'Insurance_C'], size=n_patients),\n",
        "    'admission_type': np.random.choice(['Emergency', 'Elective'], size=n_patients),\n",
        "    'treatment_type': np.random.choice(['Treatment_A', 'Treatment_B', 'Treatment_C'], size=n_patients),\n",
        "    'dosage': np.random.uniform(10, 100, size=n_patients),\n",
        "    'predicted_los': np.random.uniform(3, 14, size=n_patients),\n",
        "    'actual_los': np.random.uniform(3, 14, size=n_patients),\n",
        "    'baseline_los': np.random.uniform(3, 14, size=n_patients),  # Added for comparison\n",
        "    'patient_subject_id': np.arange(n_patients)  # Added for tracking patient IDs\n",
        "}\n",
        "\n",
        "df = pd.DataFrame(data)\n",
        "\n",
        "# Calculate TES and RILOS\n",
        "df['tes'] = (df['actual_los'] - df['predicted_los']) / df['actual_los']\n",
        "df['rilos'] = (df['baseline_los'] - df['predicted_los']) / df['baseline_los']\n",
        "\n",
        "# Encode categorical columns\n",
        "le = LabelEncoder()\n",
        "categorical_cols = ['gender', 'insurance', 'admission_type', 'treatment_type']\n",
        "for col in categorical_cols:\n",
        "    df[col] = le.fit_transform(df[col])\n",
        "\n",
        "# Define features and targets\n",
        "features = ['age', 'gender', 'insurance', 'admission_type', 'treatment_type', 'dosage', 'predicted_los']\n",
        "target_tes = 'tes'\n",
        "target_rilos = 'rilos'\n",
        "\n",
        "# Split data for TES\n",
        "X_tes = df[features]\n",
        "y_tes = df[target_tes]\n",
        "\n",
        "# Split data for RILOS\n",
        "X_rilos = df[features]\n",
        "y_rilos = df[target_rilos]\n",
        "\n",
        "# Train TES model\n",
        "tes_model = RandomForestRegressor(n_estimators=100, random_state=42)\n",
        "tes_model.fit(X_tes, y_tes)\n",
        "\n",
        "# Train RILOS model\n",
        "rilos_model = RandomForestRegressor(n_estimators=100, random_state=42)\n",
        "rilos_model.fit(X_rilos, y_rilos)\n",
        "\n",
        "# Monte Carlo Simulation Function\n",
        "def monte_carlo_simulation(patient_data, treatment_options, dosage_range, n_simulations=100):\n",
        "    simulation_results = []\n",
        "\n",
        "    for _ in range(n_simulations):\n",
        "        # Randomly select treatment and dosage\n",
        "        treatment_type = np.random.choice(treatment_options)\n",
        "        dosage = np.random.uniform(dosage_range[0], dosage_range[1])\n",
        "\n",
        "        # Predict TES and RILOS for each patient with the new treatment scenario\n",
        "        for _, patient in patient_data.iterrows():\n",
        "            simulated_data = patient.copy()\n",
        "            simulated_data['treatment_type'] = le.transform([treatment_type])[0]\n",
        "            simulated_data['dosage'] = dosage\n",
        "\n",
        "            simulated_df = pd.DataFrame([simulated_data])\n",
        "\n",
        "            # Predict TES and RILOS\n",
        "            predicted_tes = tes_model.predict(simulated_df[features])[0]\n",
        "            predicted_rilos = rilos_model.predict(simulated_df[features])[0]\n",
        "\n",
        "            simulation_results.append({\n",
        "                'patient_id': patient['patient_subject_id'],  # Ensure column exists\n",
        "                'treatment_type': treatment_type,\n",
        "                'dosage': dosage,\n",
        "                'predicted_tes': predicted_tes,\n",
        "                'predicted_rilos': predicted_rilos\n",
        "            })\n",
        "\n",
        "    return pd.DataFrame(simulation_results)\n",
        "\n",
        "# Example usage of the simulation\n",
        "treatment_options = ['Treatment_A', 'Treatment_B', 'Treatment_C']\n",
        "dosage_range = (10, 100)  # Example range for dosage\n",
        "simulation_df = monte_carlo_simulation(df, treatment_options, dosage_range)\n",
        "\n",
        "# Display simulation results\n",
        "print(simulation_df.head())\n"
      ],
      "metadata": {
        "colab": {
          "base_uri": "https://localhost:8080/"
        },
        "id": "FSCffg_dVCaw",
        "outputId": "fd992c94-14ff-40cb-953c-7ff0ce5d7530"
      },
      "execution_count": null,
      "outputs": [
        {
          "output_type": "stream",
          "name": "stdout",
          "text": [
            "   patient_id treatment_type     dosage  predicted_tes  predicted_rilos\n",
            "0         0.0    Treatment_A  32.852387       0.162633         0.384605\n",
            "1         1.0    Treatment_A  32.852387      -1.486469        -0.832522\n",
            "2         2.0    Treatment_A  32.852387      -0.048276         0.143750\n",
            "3         3.0    Treatment_A  32.852387      -0.032994         0.090491\n",
            "4         4.0    Treatment_A  32.852387       0.404959         0.192775\n"
          ]
        }
      ]
    },
    {
      "cell_type": "markdown",
      "source": [
        "The baseline LOS is the estimated length of stay based on historical data and standard treatments, while personalized LOS is tailored to individual patients based on specific data and treatment plans. The code compares these two to identify potential improvements in outcomes, validate predictions, and optimize treatment strategies. This helps in ensuring that the predictions are accurate, aiding in effective resource allocation and hospital planning."
      ],
      "metadata": {
        "id": "Dp9i84oFwtmx"
      }
    },
    {
      "cell_type": "code",
      "source": [
        "import pandas as pd\n",
        "import numpy as np\n",
        "from sklearn.preprocessing import OneHotEncoder\n",
        "from sklearn.compose import ColumnTransformer\n",
        "from sklearn.pipeline import Pipeline\n",
        "from sklearn.model_selection import train_test_split\n",
        "from sklearn.ensemble import RandomForestRegressor\n",
        "from sklearn.metrics import mean_squared_error\n",
        "\n",
        "# Simulate data\n",
        "np.random.seed(42)\n",
        "n_patients = 1000\n",
        "\n",
        "data = {\n",
        "    'age': np.random.randint(20, 80, size=n_patients),\n",
        "    'gender': np.random.choice(['Male', 'Female'], size=n_patients),\n",
        "    'insurance': np.random.choice(['Insurance_A', 'Insurance_B', 'Insurance_C'], size=n_patients),\n",
        "    'admission_type': np.random.choice(['Emergency', 'Elective'], size=n_patients),\n",
        "    'treatment_type': np.random.choice(['Treatment_A', 'Treatment_B', 'Treatment_C'], size=n_patients),\n",
        "    'dosage': np.random.uniform(10, 100, size=n_patients),\n",
        "    'predicted_los': np.random.uniform(3, 14, size=n_patients),\n",
        "    'actual_los': np.random.uniform(3, 14, size=n_patients),\n",
        "    'baseline_los': np.random.uniform(3, 14, size=n_patients)\n",
        "}\n",
        "\n",
        "df = pd.DataFrame(data)\n",
        "\n",
        "# Define categorical columns\n",
        "categorical_cols = ['gender', 'insurance', 'admission_type', 'treatment_type']\n",
        "\n",
        "# Create Column Transformer for preprocessing\n",
        "preprocessor = ColumnTransformer(\n",
        "    transformers=[\n",
        "        ('cat', OneHotEncoder(handle_unknown='ignore'), categorical_cols)\n",
        "    ],\n",
        "    remainder='passthrough'\n",
        ")\n",
        "\n",
        "# Define features and targets for baseline LOS model\n",
        "features = categorical_cols + ['age', 'dosage', 'predicted_los']\n",
        "target_baseline = 'baseline_los'\n",
        "target_predicted = 'predicted_los'\n",
        "\n",
        "# Split data for baseline LOS\n",
        "X_baseline = df[features]\n",
        "y_baseline = df[target_baseline]\n",
        "X_train_baseline, X_test_baseline, y_train_baseline, y_test_baseline = train_test_split(X_baseline, y_baseline, test_size=0.3, random_state=42)\n",
        "\n",
        "# Train Baseline LOS model\n",
        "pipeline_baseline = Pipeline(steps=[\n",
        "    ('preprocessor', preprocessor),\n",
        "    ('model', RandomForestRegressor(n_estimators=100, random_state=42))\n",
        "])\n",
        "pipeline_baseline.fit(X_train_baseline, y_train_baseline)\n",
        "\n",
        "# Evaluate Baseline LOS model\n",
        "baseline_predictions = pipeline_baseline.predict(X_test_baseline)\n",
        "print(f'Baseline LOS Model Mean Squared Error: {mean_squared_error(y_test_baseline, baseline_predictions)}')\n",
        "\n",
        "# Split data for predicted LOS\n",
        "X_predicted = df[features]\n",
        "y_predicted = df[target_predicted]\n",
        "X_train_predicted, X_test_predicted, y_train_predicted, y_test_predicted = train_test_split(X_predicted, y_predicted, test_size=0.3, random_state=42)\n",
        "\n",
        "# Train Predicted LOS model\n",
        "pipeline_predicted = Pipeline(steps=[\n",
        "    ('preprocessor', preprocessor),\n",
        "    ('model', RandomForestRegressor(n_estimators=100, random_state=42))\n",
        "])\n",
        "pipeline_predicted.fit(X_train_predicted, y_train_predicted)\n",
        "\n",
        "# Evaluate Predicted LOS model\n",
        "predicted_predictions = pipeline_predicted.predict(X_test_predicted)\n",
        "print(f'Predicted LOS Model Mean Squared Error: {mean_squared_error(y_test_predicted, predicted_predictions)}')\n",
        "\n",
        "# Function to predict LOS for new data\n",
        "def predict_los_for_new_data(new_data, pipeline):\n",
        "    new_data_encoded = new_data.copy()\n",
        "    predictions = pipeline.predict(new_data_encoded)\n",
        "    return predictions\n",
        "\n",
        "# Example new patient data\n",
        "new_patient_data = pd.DataFrame({\n",
        "    'age': [50],\n",
        "    'gender': ['Male'],\n",
        "    'insurance': ['Insurance_B'],\n",
        "    'admission_type': ['Elective'],\n",
        "    'treatment_type': ['Treatment_A'],\n",
        "    'dosage': [60],\n",
        "    'predicted_los': [7]\n",
        "})\n",
        "\n",
        "# Predict baseline LOS for new patient\n",
        "baseline_los_prediction = predict_los_for_new_data(new_patient_data, pipeline_baseline)\n",
        "print(f'Predicted Baseline LOS for new patient: {baseline_los_prediction[0]:.2f} days')\n",
        "\n",
        "# Predict LOS based on treatment for new patient\n",
        "predicted_los_prediction = predict_los_for_new_data(new_patient_data, pipeline_predicted)\n",
        "print(f'Predicted LOS for new patient with treatment: {predicted_los_prediction[0]:.2f} days')\n"
      ],
      "metadata": {
        "colab": {
          "base_uri": "https://localhost:8080/"
        },
        "id": "ClKFFdTg97ly",
        "outputId": "a411fe94-3e7b-4c30-d227-8fa7e82bf35e"
      },
      "execution_count": null,
      "outputs": [
        {
          "output_type": "stream",
          "name": "stdout",
          "text": [
            "Baseline LOS Model Mean Squared Error: 10.794161574157696\n",
            "Predicted LOS Model Mean Squared Error: 0.00020683793823043011\n",
            "Predicted Baseline LOS for new patient: 8.49 days\n",
            "Predicted LOS for new patient with treatment: 6.99 days\n"
          ]
        }
      ]
    },
    {
      "cell_type": "code",
      "source": [
        "!pip install streamlit -q"
      ],
      "metadata": {
        "id": "iaE-r_6rDhEL",
        "colab": {
          "base_uri": "https://localhost:8080/"
        },
        "outputId": "3e6cade1-eba0-4162-8a74-6433ef5f2834"
      },
      "execution_count": null,
      "outputs": [
        {
          "output_type": "stream",
          "name": "stdout",
          "text": [
            "\u001b[2K   \u001b[90m━━━━━━━━━━━━━━━━━━━━━━━━━━━━━━━━━━━━━━━━\u001b[0m \u001b[32m8.7/8.7 MB\u001b[0m \u001b[31m26.1 MB/s\u001b[0m eta \u001b[36m0:00:00\u001b[0m\n",
            "\u001b[2K   \u001b[90m━━━━━━━━━━━━━━━━━━━━━━━━━━━━━━━━━━━━━━━━\u001b[0m \u001b[32m207.3/207.3 kB\u001b[0m \u001b[31m11.6 MB/s\u001b[0m eta \u001b[36m0:00:00\u001b[0m\n",
            "\u001b[2K   \u001b[90m━━━━━━━━━━━━━━━━━━━━━━━━━━━━━━━━━━━━━━━━\u001b[0m \u001b[32m6.9/6.9 MB\u001b[0m \u001b[31m52.4 MB/s\u001b[0m eta \u001b[36m0:00:00\u001b[0m\n",
            "\u001b[2K   \u001b[90m━━━━━━━━━━━━━━━━━━━━━━━━━━━━━━━━━━━━━━━━\u001b[0m \u001b[32m82.9/82.9 kB\u001b[0m \u001b[31m4.8 MB/s\u001b[0m eta \u001b[36m0:00:00\u001b[0m\n",
            "\u001b[2K   \u001b[90m━━━━━━━━━━━━━━━━━━━━━━━━━━━━━━━━━━━━━━━━\u001b[0m \u001b[32m62.7/62.7 kB\u001b[0m \u001b[31m3.8 MB/s\u001b[0m eta \u001b[36m0:00:00\u001b[0m\n",
            "\u001b[?25h"
          ]
        }
      ]
    },
    {
      "cell_type": "code",
      "source": [
        "!wget -q -O - ipv4.icanhazip.com"
      ],
      "metadata": {
        "colab": {
          "base_uri": "https://localhost:8080/"
        },
        "id": "G5yaVs0GDmXM",
        "outputId": "189b7028-8fa8-4bef-8e10-ff34e0b8a3fa"
      },
      "execution_count": null,
      "outputs": [
        {
          "output_type": "stream",
          "name": "stdout",
          "text": [
            "34.71.26.195\n"
          ]
        }
      ]
    },
    {
      "cell_type": "code",
      "source": [
        "import streamlit as st\n",
        "streamlit_code = \"\"\n",
        "# Streamlit app\n",
        "st.title('LOS Prediction for Patients')\n",
        "\n",
        "# User input form\n",
        "with st.form(key='patient_form'):\n",
        "    age = st.number_input('Age', min_value=0, max_value=120, value=50)\n",
        "    gender = st.selectbox('Gender', options=['Male', 'Female'])\n",
        "    insurance = st.selectbox('Insurance', options=['Insurance_A', 'Insurance_B', 'Insurance_C'])\n",
        "    admission_type = st.selectbox('Admission Type', options=['Emergency', 'Elective'])\n",
        "    treatment_type = st.selectbox('Treatment Type', options=['Treatment_A', 'Treatment_B', 'Treatment_C'])\n",
        "    dosage = st.number_input('Dosage', min_value=0.0, max_value=100.0, value=60.0)\n",
        "    predicted_los = st.number_input('Predicted LOS', min_value=0.0, max_value=20.0, value=7.0)\n",
        "\n",
        "    submit_button = st.form_submit_button(label='Predict')\n",
        "\n",
        "    if submit_button:\n",
        "        # Create DataFrame for prediction\n",
        "        new_patient_data = pd.DataFrame({\n",
        "            'age': [age],\n",
        "            'gender': [gender],\n",
        "            'insurance': [insurance],\n",
        "            'admission_type': [admission_type],\n",
        "            'treatment_type': [treatment_type],\n",
        "            'dosage': [dosage],\n",
        "            'predicted_los': [predicted_los]\n",
        "        })\n",
        "\n",
        "        # Predict baseline LOS for new patient\n",
        "        baseline_los_prediction = pipeline_baseline.predict(new_patient_data)\n",
        "        st.write(f'Predicted Baseline LOS for new patient: {baseline_los_prediction[0]:.2f} days')\n",
        "\n",
        "        # Predict LOS based on treatment for new patient\n",
        "        predicted_los_prediction = pipeline_predicted.predict(new_patient_data)\n",
        "        st.write(f'Predicted LOS for new patient with treatment: {predicted_los_prediction[0]:.2f} days')\n",
        "\n",
        "with open('streamlit_app.py', 'w') as f:\n",
        "    f.write(streamlit_code)"
      ],
      "metadata": {
        "id": "fASHOpap-HTm"
      },
      "execution_count": null,
      "outputs": []
    },
    {
      "cell_type": "code",
      "source": [
        "!streamlit run streamlit_app.py & npx localtunnel --port 8501\n"
      ],
      "metadata": {
        "colab": {
          "base_uri": "https://localhost:8080/"
        },
        "id": "EKRNtC46CNPJ",
        "outputId": "192f4c8d-adba-454a-bbdb-b8a1014f43cd"
      },
      "execution_count": null,
      "outputs": [
        {
          "output_type": "stream",
          "name": "stdout",
          "text": [
            "\n",
            "Collecting usage statistics. To deactivate, set browser.gatherUsageStats to false.\n",
            "\u001b[0m\n",
            "\u001b[0m\n",
            "\u001b[34m\u001b[1m  You can now view your Streamlit app in your browser.\u001b[0m\n",
            "\u001b[0m\n",
            "\u001b[34m  Local URL: \u001b[0m\u001b[1mhttp://localhost:8501\u001b[0m\n",
            "\u001b[34m  Network URL: \u001b[0m\u001b[1mhttp://172.28.0.12:8501\u001b[0m\n",
            "\u001b[34m  External URL: \u001b[0m\u001b[1mhttp://34.71.26.195:8501\u001b[0m\n",
            "\u001b[0m\n",
            "\u001b[1G\u001b[0JNeed to install the following packages:\n",
            "  localtunnel@2.0.2\n",
            "Ok to proceed? (y) \u001b[20G\u001b[34m  Stopping...\u001b[0m\n",
            "^C\n"
          ]
        }
      ]
    },
    {
      "cell_type": "code",
      "source": [],
      "metadata": {
        "id": "7xR_pIEcC86D"
      },
      "execution_count": null,
      "outputs": []
    }
  ]
}